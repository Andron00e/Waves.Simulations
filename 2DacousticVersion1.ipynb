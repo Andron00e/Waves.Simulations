{
  "nbformat": 4,
  "nbformat_minor": 0,
  "metadata": {
    "colab": {
      "name": "2DacousticVersion1.ipynb",
      "provenance": [],
      "collapsed_sections": [],
      "authorship_tag": "ABX9TyM+oLEHk5r7hYYOjQugrgnL",
      "include_colab_link": true
    },
    "kernelspec": {
      "name": "python3",
      "display_name": "Python 3"
    },
    "language_info": {
      "name": "python"
    }
  },
  "cells": [
    {
      "cell_type": "markdown",
      "metadata": {
        "id": "view-in-github",
        "colab_type": "text"
      },
      "source": [
        "<a href=\"https://colab.research.google.com/github/Andron00e/Waves.Simulations/blob/main/2DacousticVersion1.ipynb\" target=\"_parent\"><img src=\"https://colab.research.google.com/assets/colab-badge.svg\" alt=\"Open In Colab\"/></a>"
      ]
    },
    {
      "cell_type": "markdown",
      "source": [
        "Computers Waves Simulations"
      ],
      "metadata": {
        "id": "vI9OiSK9zlVX"
      }
    },
    {
      "cell_type": "code",
      "execution_count": 1,
      "metadata": {
        "id": "7uWWp-49xmxK"
      },
      "outputs": [],
      "source": [
        "import numpy as np\n",
        "import matplotlib\n",
        "import matplotlib.pyplot as plt"
      ]
    },
    {
      "cell_type": "markdown",
      "source": [
        "Определяем параметры"
      ],
      "metadata": {
        "id": "e6rxcLjWzNuh"
      }
    },
    {
      "cell_type": "code",
      "source": [
        "x_n_points = 200                        \n",
        "y_n_points = 200                        \n",
        "dx = 10.0                               \n",
        "t_n_points = 1000                       \n",
        "dt = 0.001                              \n",
        "\n",
        "source_x = x_n_points//2                 \n",
        "source_y = y_n_points//2                 \n",
        "source_t = 100                          \n",
        "receiver_x = np.array([60, 80, 100, 120, 140])      \n",
        "receiver_y = np.array([5, 5, 5, 5, 5])              \n",
        "\n",
        "f_0 = 40.0                              \n",
        "T_period = 1/float(f_0)                 \n",
        "f_snap = 10                             \n",
        "op_n_points = 5                         \n",
        "seis = np.zeros((len(receiver_x), t_n_points))\n",
        "\n",
        "p = np.zeros((y_n_points, x_n_points))              \n",
        "p_old = np.zeros((y_n_points, x_n_points))          \n",
        "p_new = np.zeros((y_n_points, x_n_points))          \n",
        "d2p_x = np.zeros((y_n_points, x_n_points))          \n",
        "d2p_y = np.zeros((y_n_points, x_n_points))          \n",
        "\n",
        "c_0 = 3000.0                                        \n",
        "c = np.zeros((y_n_points, x_n_points))              # Defining the velocity model\n",
        "c += c_0\n",
        "c[:, x_n_points//2 - 5: x_n_points//2 + 5] *= 0.8\n",
        "c_max = c.max()\n",
        "\n",
        "source_fnc = np.zeros(t_n_points + 1)\n",
        "for it in range(t_n_points):\n",
        "    source_fnc[it] = np.exp(-1.0 / float(T_period ** 2) * ((it - source_t) * dt) ** 2)\n",
        "\n",
        "source_fnc = np.diff(source_fnc) / float(dt)                      \n",
        "source_fnc[t_n_points - 1] = 0                                    # Assigning the boundary value as 0"
      ],
      "metadata": {
        "id": "wNlT088JyxXl"
      },
      "execution_count": 13,
      "outputs": []
    },
    {
      "cell_type": "markdown",
      "source": [
        "График волновой функции"
      ],
      "metadata": {
        "id": "g1UMR0VpzQO2"
      }
    },
    {
      "cell_type": "code",
      "source": [
        "v = max([np.abs(source_fnc.min()), np.abs(source_fnc.max())])\n",
        "\n",
        "image = plt.imshow(p_new, interpolation='nearest', animated=True, vmin=-v, vmax=+v, cmap=plt.cm.RdBu)\n",
        "\n",
        "# Plot the receivers\n",
        "for x, y in zip(receiver_x, receiver_y):\n",
        "    plt.text(x, y, '+')\n",
        "\n",
        "plt.text(source_x, y_n_points//2, 'o')                                # source_y = y_n_points//2\n",
        "plt.colorbar()\n",
        "plt.xlabel('ix')\n",
        "plt.ylabel('iy')\n",
        "\n",
        "plt.ion()\n",
        "ir = np.arange(len(receiver_x))\n",
        "\n",
        "print(\"CFL criterion epsilon = c*dt/dx :\", c_max*dt/dx)               # CFL Criteria\n",
        "plt.show()"
      ],
      "metadata": {
        "colab": {
          "base_uri": "https://localhost:8080/",
          "height": 300
        },
        "id": "6cUhBkg1zKA7",
        "outputId": "2c16737b-ecf1-48c5-ff41-ece7afdd3318"
      },
      "execution_count": 14,
      "outputs": [
        {
          "output_type": "stream",
          "name": "stdout",
          "text": [
            "CFL criterion epsilon = c*dt/dx : 0.3\n"
          ]
        },
        {
          "output_type": "display_data",
          "data": {
            "text/plain": [
              "<Figure size 432x288 with 2 Axes>"
            ],
            "image/png": "[encoded data removed]"
          },
          "metadata": {
            "needs_background": "light"
          }
        }
      ]
    },
    {
      "cell_type": "markdown",
      "source": [
        "Численное решение"
      ],
      "metadata": {
        "id": "wfhrHce02J_I"
      }
    },
    {
      "cell_type": "code",
      "source": [
        "for it in range(t_n_points):\n",
        "    for i in range(1, x_n_points - 1):\n",
        "        d2p_y[:, i] = (p[:, i + 1] - 2 * p[:, i] + p[:, i - 1])/float(dx ** 2)      \n",
        "    for j in range(1, y_n_points - 1):\n",
        "        d2p_x[j, :] = (p[j - 1, :] - 2 * p[j, :] + p[j + 1, :])/float(dx ** 2)      \n",
        "\n",
        "    p_new = 2 * p - p_old + dt ** 2 * c ** 2 * (d2p_x + d2p_y)       \n",
        "    p_new[source_y, source_x] = p_new[source_y, source_x] + source_fnc[it]\n",
        "\n",
        "    if it % f_snap == 0:  \n",
        "\n",
        "        plt.title(\"Max P: %.2f\" % p.max())\n",
        "        image.set_data(p_new)\n",
        "        plt.gcf().canvas.draw()\n",
        "\n",
        "    p_old, p = p, p_new\n",
        "\n",
        "    \n",
        "    seis[ir, it] = p[receiver_y[ir], receiver_x[ir]]\n",
        "\n",
        "\n",
        "\n",
        "\n",
        "plt.ioff()\n",
        "plt.figure()\n",
        "\n",
        "plt.subplot(221)\n",
        "time = np.arange(t_n_points) * dt\n",
        "plt.plot(time, source_fnc)\n",
        "plt.title('Source time function')\n",
        "plt.xlabel('Time (s) ')\n",
        "plt.ylabel('Source amplitude ')\n",
        "\n",
        "plt.subplot(223)\n",
        "ymax = seis.ravel().max()\n",
        "for ir in range(len(seis)):\n",
        "    plt.plot(time, seis[ir, :] + ymax * ir)\n",
        "    plt.xlabel('Time (s)')\n",
        "    plt.ylabel('Amplitude')\n",
        "\n",
        "plt.subplot(224)\n",
        "plt.title('Velocity Model')\n",
        "plt.imshow(c)\n",
        "plt.xlabel('ix')\n",
        "plt.ylabel('iy')\n",
        "plt.colorbar()\n",
        "\n",
        "plt.show()  "
      ],
      "metadata": {
        "colab": {
          "base_uri": "https://localhost:8080/",
          "height": 559
        },
        "id": "0-Is7nsbz379",
        "outputId": "c8ad183c-7132-4948-e98e-26e6f8638403"
      },
      "execution_count": 15,
      "outputs": [
        {
          "output_type": "display_data",
          "data": {
            "text/plain": [
              "<Figure size 432x288 with 1 Axes>"
            ],
            "image/png": "[encoded data removed]"
          },
          "metadata": {
            "needs_background": "light"
          }
        },
        {
          "output_type": "display_data",
          "data": {
            "text/plain": [
              "<Figure size 432x288 with 4 Axes>"
            ],
            "image/png": "[encoded data removed]"
          },
          "metadata": {
            "needs_background": "light"
          }
        }
      ]
    }
  ]
}