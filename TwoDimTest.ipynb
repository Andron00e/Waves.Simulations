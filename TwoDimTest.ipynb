{
  "nbformat": 4,
  "nbformat_minor": 0,
  "metadata": {
    "colab": {
      "name": "TwoDimTest.ipynb",
      "provenance": [],
      "collapsed_sections": [],
      "toc_visible": true,
      "authorship_tag": "ABX9TyNqvrOgnI7l3h35EEsZKF2E"
    },
    "kernelspec": {
      "name": "python3",
      "display_name": "Python 3"
    },
    "language_info": {
      "name": "python"
    }
  },
  "cells": [
    {
      "cell_type": "code",
      "execution_count": 2,
      "metadata": {
        "colab": {
          "base_uri": "https://localhost:8080/",
          "height": 269
        },
        "id": "_yCBIk36-LwS",
        "outputId": "1e87a31a-b2bd-48d3-c0aa-cb6533b0637f"
      },
      "outputs": [
        {
          "output_type": "display_data",
          "data": {
            "text/plain": [
              "<Figure size 432x288 with 2 Axes>"
            ],
            "image/png": "[encoded data removed]"
          },
          "metadata": {
            "needs_background": "light"
          }
        }
      ],
      "source": [
        "#A code from Vasily Golubev\n",
        "from matplotlib import pyplot as plt\n",
        "import numpy as np\n",
        "import sys\n",
        "\n",
        "'''\n",
        "\tScheme of simulation domain\n",
        "\t^ Y\n",
        "\t|\n",
        "\t---------------------------\n",
        "\t|                         |\n",
        "\t|                         |\n",
        "\t|                         |\n",
        "\t|                         |\n",
        "\t|                         |\n",
        "\t|                         |\n",
        "\t|                         |\n",
        "\t----------------------------> X\n",
        "\t(0,0)\n",
        "'''\n",
        "\n",
        "# Courant condition: max{cx, cy} * dt < min{dx, dy}\n",
        "\n",
        "u0 = 1 # initial u value\n",
        "time = 0.015 # Total time in seconds\n",
        "dt = 0.0006 # Time step in seconds\n",
        "nt = int(time / dt) # Amount of time steps\n",
        "lx = 200 # Length along X in meters\n",
        "ly = 100 # Length along Y in meters\n",
        "dx = 1 # Spatial step along X in meters\n",
        "dy = 1 # Spatial step along Y in meters\n",
        "nx = int(lx / dx) # Number of nodes along X\n",
        "ny = int(ly / dy) # Number of nodes along Y\n",
        "\n",
        "# equation: du/dt + cx * du/dx + cy * du/dy = 0\n",
        "# node = [u]\n",
        "\n",
        "data_curr = [[0] * nx for _ in range(ny)] # n-th time layer data\n",
        "data_next = [[0] * nx for _ in range(ny)] # (n+1)-th time layer data\n",
        "\n",
        "# with possible extension to the mat(x,y) dependency\n",
        "mat = {'cx': 1450, 'cy': 700} # equation parameters\n",
        "\n",
        "def clean_data():\n",
        "\tfor j in range(0, ny):\n",
        "\t\tfor i in range(0, nx):\n",
        "\t\t\tdata_curr[j][i] = 0;\n",
        "\n",
        "def apply_initial_data():\n",
        "\tfor j in range(int(ny/3), int(ny/3 * 2)):\n",
        "\t\tfor i in range(int(nx/3), int(nx/3 * 2)):\n",
        "\t\t\tdata_curr[j][i] = u0;\n",
        "\n",
        "def save_data():\n",
        "\tx = np.arange(0, lx, dx)\n",
        "\ty = np.arange(0, ly, dy)\n",
        "\t# X, Y = np.meshgrid(x - [lx / 2] * len(x), y - [ly / 2] * len(y)) # for test function\n",
        "\t# Z = np.exp(-X**2 / 100 - Y**2 / 100) # for test function\n",
        "\tX, Y = np.meshgrid(x, y)\n",
        "\tZ = np.array(data_curr)\n",
        "\t_, ax = plt.subplots(2, 1)\n",
        "\tax[1].imshow(Z)\n",
        "\t# FIXME remove it, break calculations\n",
        "\tclean_data()\n",
        "\tapply_initial_data()\n",
        "\tZ = np.array(data_curr)\n",
        "\tax[0].imshow(Z)\n",
        "\tplt.show()\n",
        "\n",
        "if __name__ == '__main__':\n",
        "\t# initial conditions\n",
        "\tapply_initial_data()\n",
        "\t# save_data() # test visualization\n",
        "\t# sys.exit(0) # test visualization\n",
        "\n",
        "\t# main time loop\n",
        "\tfor n in range(nt):\n",
        "\t\t# stepX\n",
        "\t\tfor j in range(1, ny - 1): # Don't think much about boundaries\n",
        "\t\t\tfor i in range(1, nx - 1):\n",
        "\t\t\t\tdata_next[j][i] = data_curr[j][i] - mat['cx'] * (data_curr[j][i] - data_curr[j][i-1]) / dx * dt\n",
        "\t\t# update time layer\n",
        "\t\tfor j in range(1, ny - 1): # Don't think much about boundaries\n",
        "\t\t\tfor i in range(1, nx - 1):\n",
        "\t\t\t\tdata_curr[j][i] = data_next[j][i]\n",
        "\t\t# stepY\n",
        "\t\tfor i in range(1, nx - 1): # Don't think much about boundaries\n",
        "\t\t\tfor j in range(1, ny - 1):\n",
        "\t\t\t\tdata_next[j][i] = data_curr[j][i] - mat['cy'] * (data_curr[j][i] - data_curr[j-1][i]) / dy * dt\n",
        "\t\t# update time layer\n",
        "\t\tfor j in range(1, ny - 1): # Don't think much about boundaries\n",
        "\t\t\tfor i in range(1, nx - 1):\n",
        "\t\t\t\tdata_curr[j][i] = data_next[j][i]\n",
        "\t# save results\n",
        "\tsave_data();"
      ]
    }
  ]
}